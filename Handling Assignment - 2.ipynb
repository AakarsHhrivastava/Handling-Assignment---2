{
 "cells": [
  {
   "cell_type": "markdown",
   "id": "778939ba-fc48-4d12-85aa-ee7564c531d8",
   "metadata": {},
   "source": [
    "### Q1. Explain why we have to use the Exception class while creating a Custom Exception.Note: Here Exception class refers to the base class for all the exceptions."
   ]
  },
  {
   "cell_type": "code",
   "execution_count": 1,
   "id": "cd491059-cd83-4835-b0f0-4569012edb5c",
   "metadata": {},
   "outputs": [],
   "source": [
    "#Overall, using the Exception class as the base class for custom exceptions promotes code reusability, consistency, compatibility, and facilitates effective exception handling in the language's established patterns.\n",
    "\n",
    "\n",
    "\n",
    "\n"
   ]
  },
  {
   "cell_type": "markdown",
   "id": "d6e35368-5b79-426f-939c-73dab09842c5",
   "metadata": {},
   "source": [
    "### Q2. Write a python program to print Python Exception Hierarchy."
   ]
  },
  {
   "cell_type": "code",
   "execution_count": 2,
   "id": "1a233ead-5e57-42ba-a58c-88fd20bc2d3e",
   "metadata": {},
   "outputs": [
    {
     "name": "stdout",
     "output_type": "stream",
     "text": [
      "<class 'BaseException'>\n",
      "<class 'object'>\n"
     ]
    }
   ],
   "source": [
    "\n",
    "import inspect\n",
    "\n",
    "def print_exception_hierarchy(exception_type):\n",
    "    \n",
    "    print(exception_type)\n",
    "    for base_exception in exception_type.__bases__:\n",
    "        print_exception_hierarchy(base_exception)\n",
    "\n",
    "if __name__ == \"__main__\":\n",
    "    \n",
    "    print_exception_hierarchy(BaseException)"
   ]
  },
  {
   "cell_type": "markdown",
   "id": "a75c9383-9512-45ec-bc50-f62143af0a72",
   "metadata": {},
   "source": [
    "### Q3. What errors are defined in the ArithmeticError class? Explain any two with an example."
   ]
  },
  {
   "cell_type": "code",
   "execution_count": 3,
   "id": "c47fa846-a39f-4c2f-9f69-1b32d4ceb2a5",
   "metadata": {},
   "outputs": [],
   "source": [
    "# The ArithmeticError class is a base class for all errors related to arithmetic operations in Python. It is a subclass of the built-in Exception class. Some commonly encountered errors defined in the ArithmeticError class include:"
   ]
  },
  {
   "cell_type": "markdown",
   "id": "0284905b-eff7-4271-bfe6-aaa340263b6b",
   "metadata": {},
   "source": [
    "ZeroDivisionError"
   ]
  },
  {
   "cell_type": "code",
   "execution_count": 4,
   "id": "3af58f45-f942-4bc5-9a79-c38c542ce646",
   "metadata": {},
   "outputs": [
    {
     "name": "stdout",
     "output_type": "stream",
     "text": [
      "Error: Division by zero is not allowed.\n"
     ]
    }
   ],
   "source": [
    "try:\n",
    "    result = 10 / 0  \n",
    "except ZeroDivisionError:\n",
    "    print(\"Error: Division by zero is not allowed.\")"
   ]
  },
  {
   "cell_type": "markdown",
   "id": "2f3c58ae-8175-4186-af5e-4fa77ba7edfd",
   "metadata": {},
   "source": [
    "OverflowError"
   ]
  },
  {
   "cell_type": "code",
   "execution_count": 6,
   "id": "9385de93-4273-4284-a305-b68c4ece054c",
   "metadata": {},
   "outputs": [],
   "source": [
    "import sys\n",
    "\n",
    "try:\n",
    "    big_number = sys.maxsize\n",
    "    result = big_number * big_number\n",
    "except OverflowError:\n",
    "    print(\"Error: Numeric overflow!\")"
   ]
  },
  {
   "cell_type": "markdown",
   "id": "f19e28a1-ec04-46eb-a089-955c316e96a1",
   "metadata": {},
   "source": [
    "### Q4. Why LookupError class is used? Explain with an example KeyError and IndexError."
   ]
  },
  {
   "cell_type": "code",
   "execution_count": 7,
   "id": "15f7aea4-c059-4aae-9697-af546408791d",
   "metadata": {},
   "outputs": [],
   "source": [
    "#The LookupError class in Python is a base class for exceptions that occur when a lookup or indexing operation fails. It serves as a superclass for more specific lookup-related exceptions such as KeyError and IndexError. The purpose of LookupError is to provide a common base for handling lookup failures and make it easier to catch and handle these types of exceptions."
   ]
  },
  {
   "cell_type": "markdown",
   "id": "9c981108-9b75-4c94-94d2-aa33695d294f",
   "metadata": {},
   "source": [
    "KeyError"
   ]
  },
  {
   "cell_type": "code",
   "execution_count": 9,
   "id": "eb10ba3a-3287-4c4f-bd79-5e3506ca85a0",
   "metadata": {},
   "outputs": [
    {
     "name": "stdout",
     "output_type": "stream",
     "text": [
      "'d'\n"
     ]
    }
   ],
   "source": [
    "my_dict = {'a': 1, 'b': 2, 'c': 3}\n",
    "try:\n",
    "    value = my_dict['d']\n",
    "except KeyError as e:\n",
    "    print(e)"
   ]
  },
  {
   "cell_type": "markdown",
   "id": "d3f0af52-9fe5-4041-b7ad-dc662f979338",
   "metadata": {},
   "source": [
    "IndexError"
   ]
  },
  {
   "cell_type": "code",
   "execution_count": 10,
   "id": "1654882d-fa36-463c-996b-17098bcbf0a6",
   "metadata": {},
   "outputs": [
    {
     "name": "stdout",
     "output_type": "stream",
     "text": [
      "list index out of range\n"
     ]
    }
   ],
   "source": [
    "my_list = [1, 2, 3]\n",
    "try:\n",
    "    value = my_list[4]\n",
    "except IndexError as e:\n",
    "    print(e)"
   ]
  },
  {
   "cell_type": "markdown",
   "id": "5051d39e-14ec-4c2a-ba1d-69c14a6616d1",
   "metadata": {},
   "source": [
    "### Q5. Explain ImportError. What is ModuleNotFoundError?"
   ]
  },
  {
   "cell_type": "code",
   "execution_count": 11,
   "id": "b69cc2f4-f277-4c0b-b498-e9922ac7b998",
   "metadata": {},
   "outputs": [
    {
     "name": "stdout",
     "output_type": "stream",
     "text": [
      "No module named 'Aakarsh'\n"
     ]
    }
   ],
   "source": [
    "try:\n",
    "    import Aakarsh \n",
    "except ImportError as e:\n",
    "    print(e)"
   ]
  },
  {
   "cell_type": "code",
   "execution_count": 12,
   "id": "bf57088d-6e67-46fa-8dfb-62d858dabfba",
   "metadata": {},
   "outputs": [],
   "source": [
    "#ModuleNotFoundError: This exception is a subclass of ImportError and is raised when a module cannot be found or imported. It was introduced in Python 3.6 as a more specific exception for cases where the module itself is not found."
   ]
  },
  {
   "cell_type": "code",
   "execution_count": 14,
   "id": "0948a3fb-5847-4800-9655-e252bcba98eb",
   "metadata": {},
   "outputs": [
    {
     "name": "stdout",
     "output_type": "stream",
     "text": [
      "No module named 'Aakarsh'\n"
     ]
    }
   ],
   "source": [
    "try:\n",
    "    import Aakarsh\n",
    "except ModuleNotFoundError as e:\n",
    "    print(e)"
   ]
  },
  {
   "cell_type": "markdown",
   "id": "58784cb7-f417-479d-b4cb-d2fcf54eeff9",
   "metadata": {},
   "source": [
    "### Q6. List down some best practices for exception handling in python."
   ]
  },
  {
   "cell_type": "code",
   "execution_count": 15,
   "id": "7a39b262-d091-40d0-8f2c-add50904c84d",
   "metadata": {},
   "outputs": [],
   "source": [
    "#Here are some best practices for exception handling in Python:"
   ]
  },
  {
   "cell_type": "code",
   "execution_count": null,
   "id": "5ff5edf1-2b75-4a8b-a7c8-284c998a4c74",
   "metadata": {},
   "outputs": [],
   "source": [
    "#1 Exception"
   ]
  }
 ],
 "metadata": {
  "kernelspec": {
   "display_name": "Python 3 (ipykernel)",
   "language": "python",
   "name": "python3"
  },
  "language_info": {
   "codemirror_mode": {
    "name": "ipython",
    "version": 3
   },
   "file_extension": ".py",
   "mimetype": "text/x-python",
   "name": "python",
   "nbconvert_exporter": "python",
   "pygments_lexer": "ipython3",
   "version": "3.10.8"
  }
 },
 "nbformat": 4,
 "nbformat_minor": 5
}
